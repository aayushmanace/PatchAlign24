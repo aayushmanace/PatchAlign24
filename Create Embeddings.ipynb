{
 "cells": [
  {
   "cell_type": "markdown",
   "id": "2b846fa4-af70-49b5-b0de-7f330bd9b95b",
   "metadata": {},
   "source": [
    "### Code to create the text embeddings "
   ]
  },
  {
   "cell_type": "code",
   "execution_count": 1,
   "id": "fb652e74-2251-4af5-a682-c59f2df35104",
   "metadata": {},
   "outputs": [],
   "source": [
    "import pandas as pd\n",
    "import numpy as np\n",
    "import numpy as np\n",
    "import matplotlib.pyplot as plt\n",
    "from sklearn.manifold import TSNE"
   ]
  },
  {
   "cell_type": "code",
   "execution_count": 2,
   "id": "febf2c2b-395f-4652-8108-cb98f0a34b82",
   "metadata": {},
   "outputs": [
    {
     "data": {
      "text/plain": [
       "<Encoding 'cl100k_base'>"
      ]
     },
     "execution_count": 2,
     "metadata": {},
     "output_type": "execute_result"
    }
   ],
   "source": [
    "import tiktoken\n",
    "\n",
    "tiktoken.encoding_for_model('text-embedding-3-large')"
   ]
  },
  {
   "cell_type": "code",
   "execution_count": 3,
   "id": "49d2b215-66aa-4966-8f9c-a846a227b381",
   "metadata": {},
   "outputs": [],
   "source": [
    "labels = ['drug induced pigmentary changes', 'photodermatoses',\n",
    "       'dermatofibroma', 'psoriasis', 'kaposi sarcoma',\n",
    "       'neutrophilic dermatoses', 'granuloma annulare',\n",
    "       'nematode infection', 'allergic contact dermatitis',\n",
    "       'necrobiosis lipoidica', 'hidradenitis', 'melanoma',\n",
    "       'acne vulgaris', 'sarcoidosis', 'xeroderma pigmentosum',\n",
    "       'actinic keratosis', 'scleroderma', 'syringoma', 'folliculitis',\n",
    "       'pityriasis lichenoides chronica', 'porphyria',\n",
    "       'dyshidrotic eczema', 'seborrheic dermatitis', 'prurigo nodularis',\n",
    "       'acne', 'neurofibromatosis', 'eczema', 'pediculosis lids',\n",
    "       'basal cell carcinoma', 'pityriasis rubra pilaris',\n",
    "       'pityriasis rosea', 'livedo reticularis',\n",
    "       'stevens johnson syndrome', 'erythema multiforme',\n",
    "       'acrodermatitis enteropathica', 'epidermolysis bullosa',\n",
    "       'dermatomyositis', 'urticaria', 'basal cell carcinoma morpheiform',\n",
    "       'vitiligo', 'erythema nodosum', 'lupus erythematosus',\n",
    "       'lichen planus', 'sun damaged skin', 'drug eruption', 'scabies',\n",
    "       'cheilitis', 'urticaria pigmentosa', 'behcets disease',\n",
    "       'nevocytic nevus', 'mycosis fungoides',\n",
    "       'superficial spreading melanoma ssm', 'porokeratosis of mibelli',\n",
    "       'juvenile xanthogranuloma', 'milia', 'granuloma pyogenic',\n",
    "       'papilomatosis confluentes and reticulate',\n",
    "       'neurotic excoriations', 'epidermal nevus', 'naevus comedonicus',\n",
    "       'erythema annulare centrifigum', 'pilar cyst',\n",
    "       'pustular psoriasis', 'ichthyosis vulgaris', 'lyme disease',\n",
    "       'striae', 'rhinophyma', 'calcinosis cutis', 'stasis edema',\n",
    "       'neurodermatitis', 'congenital nevus', 'squamous cell carcinoma',\n",
    "       'mucinosis', 'keratosis pilaris', 'keloid', 'tuberous sclerosis',\n",
    "       'acquired autoimmune bullous diseaseherpes gestationis',\n",
    "       'fixed eruptions', 'lentigo maligna', 'lichen simplex',\n",
    "       'dariers disease', 'lymphangioma', 'pilomatricoma',\n",
    "       'lupus subacute', 'perioral dermatitis',\n",
    "       'disseminated actinic porokeratosis', 'erythema elevatum diutinum',\n",
    "       'halo nevus', 'aplasia cutis', 'incontinentia pigmenti',\n",
    "       'tick bite', 'fordyce spots', 'telangiectases',\n",
    "       'solid cystic basal cell carcinoma', 'paronychia', 'becker nevus',\n",
    "       'pyogenic granuloma', 'langerhans cell histiocytosis',\n",
    "       'port wine stain', 'malignant melanoma', 'factitial dermatitis',\n",
    "       'xanthomas', 'nevus sebaceous of jadassohn',\n",
    "       'hailey hailey disease', 'scleromyxedema', 'porokeratosis actinic',\n",
    "       'rosacea', 'acanthosis nigricans', 'myiasis',\n",
    "       'seborrheic keratosis', 'mucous cyst', 'lichen amyloidosis',\n",
    "       'ehlers danlos syndrome', 'tungiasis','eudermic']"
   ]
  },
  {
   "cell_type": "code",
   "execution_count": 6,
   "id": "b1c5826d-3d27-401d-ac48-dea4bf23f34f",
   "metadata": {},
   "outputs": [],
   "source": [
    "import os\n",
    "\n",
    "# get openai api key from platform.openai.com\n",
    "OPENAI_API_KEY = ''"
   ]
  },
  {
   "cell_type": "code",
   "execution_count": 7,
   "id": "ac9ceba9-bcc0-4e2b-921f-b5ce2776944b",
   "metadata": {},
   "outputs": [],
   "source": [
    "from langchain.embeddings.openai import OpenAIEmbeddings\n",
    "\n",
    "model_name1 = 'text-embedding-3-large'\n",
    "\n",
    "embed1 = OpenAIEmbeddings(\n",
    "    model=model_name1,\n",
    "    openai_api_key=OPENAI_API_KEY\n",
    ")"
   ]
  },
  {
   "cell_type": "code",
   "execution_count": 11,
   "id": "b9a48cf4-874a-47ef-8678-0a94a147c92d",
   "metadata": {},
   "outputs": [
    {
     "data": {
      "text/plain": [
       "(16577, 9)"
      ]
     },
     "execution_count": 11,
     "metadata": {},
     "output_type": "execute_result"
    }
   ],
   "source": [
    "df=pd.read_csv('fitzpatrick17k.csv')\n",
    "df.shape"
   ]
  },
  {
   "cell_type": "code",
   "execution_count": 12,
   "id": "be9e323f-db37-4320-89a9-2bb8b79207c7",
   "metadata": {},
   "outputs": [
    {
     "data": {
      "text/html": [
       "<div>\n",
       "<style scoped>\n",
       "    .dataframe tbody tr th:only-of-type {\n",
       "        vertical-align: middle;\n",
       "    }\n",
       "\n",
       "    .dataframe tbody tr th {\n",
       "        vertical-align: top;\n",
       "    }\n",
       "\n",
       "    .dataframe thead th {\n",
       "        text-align: right;\n",
       "    }\n",
       "</style>\n",
       "<table border=\"1\" class=\"dataframe\">\n",
       "  <thead>\n",
       "    <tr style=\"text-align: right;\">\n",
       "      <th></th>\n",
       "      <th>md5hash</th>\n",
       "      <th>fitzpatrick_scale</th>\n",
       "      <th>fitzpatrick_centaur</th>\n",
       "      <th>label</th>\n",
       "      <th>nine_partition_label</th>\n",
       "      <th>three_partition_label</th>\n",
       "      <th>qc</th>\n",
       "      <th>url</th>\n",
       "      <th>url_alphanum</th>\n",
       "    </tr>\n",
       "  </thead>\n",
       "  <tbody>\n",
       "    <tr>\n",
       "      <th>0</th>\n",
       "      <td>5e82a45bc5d78bd24ae9202d194423f8</td>\n",
       "      <td>3</td>\n",
       "      <td>3</td>\n",
       "      <td>drug induced pigmentary changes</td>\n",
       "      <td>inflammatory</td>\n",
       "      <td>non-neoplastic</td>\n",
       "      <td>NaN</td>\n",
       "      <td>https://www.dermaamin.com/site/images/clinical...</td>\n",
       "      <td>httpwwwdermaamincomsiteimagesclinicalpicmminoc...</td>\n",
       "    </tr>\n",
       "    <tr>\n",
       "      <th>1</th>\n",
       "      <td>fa2911a9b13b6f8af79cb700937cc14f</td>\n",
       "      <td>1</td>\n",
       "      <td>1</td>\n",
       "      <td>photodermatoses</td>\n",
       "      <td>inflammatory</td>\n",
       "      <td>non-neoplastic</td>\n",
       "      <td>NaN</td>\n",
       "      <td>https://www.dermaamin.com/site/images/clinical...</td>\n",
       "      <td>httpwwwdermaamincomsiteimagesclinicalpicpphoto...</td>\n",
       "    </tr>\n",
       "    <tr>\n",
       "      <th>2</th>\n",
       "      <td>d2bac3c9e4499032ca8e9b07c7d3bc40</td>\n",
       "      <td>2</td>\n",
       "      <td>3</td>\n",
       "      <td>dermatofibroma</td>\n",
       "      <td>benign dermal</td>\n",
       "      <td>benign</td>\n",
       "      <td>NaN</td>\n",
       "      <td>https://www.dermaamin.com/site/images/clinical...</td>\n",
       "      <td>httpwwwdermaamincomsiteimagesclinicalpicdderma...</td>\n",
       "    </tr>\n",
       "    <tr>\n",
       "      <th>3</th>\n",
       "      <td>0a94359e7eaacd7178e06b2823777789</td>\n",
       "      <td>1</td>\n",
       "      <td>1</td>\n",
       "      <td>psoriasis</td>\n",
       "      <td>inflammatory</td>\n",
       "      <td>non-neoplastic</td>\n",
       "      <td>NaN</td>\n",
       "      <td>https://www.dermaamin.com/site/images/clinical...</td>\n",
       "      <td>httpwwwdermaamincomsiteimagesclinicalpicppsori...</td>\n",
       "    </tr>\n",
       "    <tr>\n",
       "      <th>4</th>\n",
       "      <td>a39ec3b1f22c08a421fa20535e037bba</td>\n",
       "      <td>1</td>\n",
       "      <td>1</td>\n",
       "      <td>psoriasis</td>\n",
       "      <td>inflammatory</td>\n",
       "      <td>non-neoplastic</td>\n",
       "      <td>NaN</td>\n",
       "      <td>https://www.dermaamin.com/site/images/clinical...</td>\n",
       "      <td>httpwwwdermaamincomsiteimagesclinicalpicppsori...</td>\n",
       "    </tr>\n",
       "    <tr>\n",
       "      <th>...</th>\n",
       "      <td>...</td>\n",
       "      <td>...</td>\n",
       "      <td>...</td>\n",
       "      <td>...</td>\n",
       "      <td>...</td>\n",
       "      <td>...</td>\n",
       "      <td>...</td>\n",
       "      <td>...</td>\n",
       "      <td>...</td>\n",
       "    </tr>\n",
       "    <tr>\n",
       "      <th>16572</th>\n",
       "      <td>cd90e491ddaa92f0f4eb07f73aa09f64</td>\n",
       "      <td>5</td>\n",
       "      <td>5</td>\n",
       "      <td>scleroderma</td>\n",
       "      <td>inflammatory</td>\n",
       "      <td>non-neoplastic</td>\n",
       "      <td>NaN</td>\n",
       "      <td>http://atlasdermatologico.com.br/img?imageId=4529</td>\n",
       "      <td>httpwwwatlasdermatologicocombrimgimageId4529.jpg</td>\n",
       "    </tr>\n",
       "    <tr>\n",
       "      <th>16573</th>\n",
       "      <td>5f1ed6de6a9110d7dc580a6a0312af63</td>\n",
       "      <td>4</td>\n",
       "      <td>5</td>\n",
       "      <td>pityriasis rosea</td>\n",
       "      <td>inflammatory</td>\n",
       "      <td>non-neoplastic</td>\n",
       "      <td>NaN</td>\n",
       "      <td>http://atlasdermatologico.com.br/img?imageId=5630</td>\n",
       "      <td>httpwwwatlasdermatologicocombrimgimageId5630.jpg</td>\n",
       "    </tr>\n",
       "    <tr>\n",
       "      <th>16574</th>\n",
       "      <td>f198aaf1f0550c2464b285454d34926e</td>\n",
       "      <td>3</td>\n",
       "      <td>3</td>\n",
       "      <td>myiasis</td>\n",
       "      <td>inflammatory</td>\n",
       "      <td>non-neoplastic</td>\n",
       "      <td>NaN</td>\n",
       "      <td>http://atlasdermatologico.com.br/img?imageId=4609</td>\n",
       "      <td>httpwwwatlasdermatologicocombrimgimageId4609.jpg</td>\n",
       "    </tr>\n",
       "    <tr>\n",
       "      <th>16575</th>\n",
       "      <td>6214de2e915835014235a1839cbc5938</td>\n",
       "      <td>-1</td>\n",
       "      <td>5</td>\n",
       "      <td>vitiligo</td>\n",
       "      <td>inflammatory</td>\n",
       "      <td>non-neoplastic</td>\n",
       "      <td>NaN</td>\n",
       "      <td>http://atlasdermatologico.com.br/img?imageId=7930</td>\n",
       "      <td>httpwwwatlasdermatologicocombrimgimageId7930.jpg</td>\n",
       "    </tr>\n",
       "    <tr>\n",
       "      <th>16576</th>\n",
       "      <td>5a3a4c1f0effb626b298e89c032b1d28</td>\n",
       "      <td>2</td>\n",
       "      <td>2</td>\n",
       "      <td>dariers disease</td>\n",
       "      <td>genodermatoses</td>\n",
       "      <td>non-neoplastic</td>\n",
       "      <td>NaN</td>\n",
       "      <td>http://atlasdermatologico.com.br/img?imageId=1327</td>\n",
       "      <td>httpwwwatlasdermatologicocombrimgimageId1327.jpg</td>\n",
       "    </tr>\n",
       "  </tbody>\n",
       "</table>\n",
       "<p>16577 rows × 9 columns</p>\n",
       "</div>"
      ],
      "text/plain": [
       "                                md5hash  fitzpatrick_scale  \\\n",
       "0      5e82a45bc5d78bd24ae9202d194423f8                  3   \n",
       "1      fa2911a9b13b6f8af79cb700937cc14f                  1   \n",
       "2      d2bac3c9e4499032ca8e9b07c7d3bc40                  2   \n",
       "3      0a94359e7eaacd7178e06b2823777789                  1   \n",
       "4      a39ec3b1f22c08a421fa20535e037bba                  1   \n",
       "...                                 ...                ...   \n",
       "16572  cd90e491ddaa92f0f4eb07f73aa09f64                  5   \n",
       "16573  5f1ed6de6a9110d7dc580a6a0312af63                  4   \n",
       "16574  f198aaf1f0550c2464b285454d34926e                  3   \n",
       "16575  6214de2e915835014235a1839cbc5938                 -1   \n",
       "16576  5a3a4c1f0effb626b298e89c032b1d28                  2   \n",
       "\n",
       "       fitzpatrick_centaur                            label  \\\n",
       "0                        3  drug induced pigmentary changes   \n",
       "1                        1                  photodermatoses   \n",
       "2                        3                   dermatofibroma   \n",
       "3                        1                        psoriasis   \n",
       "4                        1                        psoriasis   \n",
       "...                    ...                              ...   \n",
       "16572                    5                      scleroderma   \n",
       "16573                    5                 pityriasis rosea   \n",
       "16574                    3                          myiasis   \n",
       "16575                    5                         vitiligo   \n",
       "16576                    2                  dariers disease   \n",
       "\n",
       "      nine_partition_label three_partition_label   qc  \\\n",
       "0             inflammatory        non-neoplastic  NaN   \n",
       "1             inflammatory        non-neoplastic  NaN   \n",
       "2            benign dermal                benign  NaN   \n",
       "3             inflammatory        non-neoplastic  NaN   \n",
       "4             inflammatory        non-neoplastic  NaN   \n",
       "...                    ...                   ...  ...   \n",
       "16572         inflammatory        non-neoplastic  NaN   \n",
       "16573         inflammatory        non-neoplastic  NaN   \n",
       "16574         inflammatory        non-neoplastic  NaN   \n",
       "16575         inflammatory        non-neoplastic  NaN   \n",
       "16576       genodermatoses        non-neoplastic  NaN   \n",
       "\n",
       "                                                     url  \\\n",
       "0      https://www.dermaamin.com/site/images/clinical...   \n",
       "1      https://www.dermaamin.com/site/images/clinical...   \n",
       "2      https://www.dermaamin.com/site/images/clinical...   \n",
       "3      https://www.dermaamin.com/site/images/clinical...   \n",
       "4      https://www.dermaamin.com/site/images/clinical...   \n",
       "...                                                  ...   \n",
       "16572  http://atlasdermatologico.com.br/img?imageId=4529   \n",
       "16573  http://atlasdermatologico.com.br/img?imageId=5630   \n",
       "16574  http://atlasdermatologico.com.br/img?imageId=4609   \n",
       "16575  http://atlasdermatologico.com.br/img?imageId=7930   \n",
       "16576  http://atlasdermatologico.com.br/img?imageId=1327   \n",
       "\n",
       "                                            url_alphanum  \n",
       "0      httpwwwdermaamincomsiteimagesclinicalpicmminoc...  \n",
       "1      httpwwwdermaamincomsiteimagesclinicalpicpphoto...  \n",
       "2      httpwwwdermaamincomsiteimagesclinicalpicdderma...  \n",
       "3      httpwwwdermaamincomsiteimagesclinicalpicppsori...  \n",
       "4      httpwwwdermaamincomsiteimagesclinicalpicppsori...  \n",
       "...                                                  ...  \n",
       "16572   httpwwwatlasdermatologicocombrimgimageId4529.jpg  \n",
       "16573   httpwwwatlasdermatologicocombrimgimageId5630.jpg  \n",
       "16574   httpwwwatlasdermatologicocombrimgimageId4609.jpg  \n",
       "16575   httpwwwatlasdermatologicocombrimgimageId7930.jpg  \n",
       "16576   httpwwwatlasdermatologicocombrimgimageId1327.jpg  \n",
       "\n",
       "[16577 rows x 9 columns]"
      ]
     },
     "execution_count": 12,
     "metadata": {},
     "output_type": "execute_result"
    }
   ],
   "source": [
    "df"
   ]
  },
  {
   "cell_type": "code",
   "execution_count": 13,
   "id": "68730bb0-d624-49ec-bc57-d4b4c974baa3",
   "metadata": {},
   "outputs": [],
   "source": [
    "three_label_map={}\n",
    "column1='label'\n",
    "column2='three_partition_label'"
   ]
  },
  {
   "cell_type": "code",
   "execution_count": 15,
   "id": "b544c445-6a6b-4207-b01a-11ab44a18324",
   "metadata": {},
   "outputs": [
    {
     "data": {
      "text/plain": [
       "label\n",
       "acanthosis nigricans                                     [non-neoplastic]\n",
       "acne                                                     [non-neoplastic]\n",
       "acne vulgaris                                            [non-neoplastic]\n",
       "acquired autoimmune bullous diseaseherpes gestationis    [non-neoplastic]\n",
       "acrodermatitis enteropathica                             [non-neoplastic]\n",
       "                                                               ...       \n",
       "urticaria                                                [non-neoplastic]\n",
       "urticaria pigmentosa                                     [non-neoplastic]\n",
       "vitiligo                                                 [non-neoplastic]\n",
       "xanthomas                                                [non-neoplastic]\n",
       "xeroderma pigmentosum                                    [non-neoplastic]\n",
       "Name: three_partition_label, Length: 114, dtype: object"
      ]
     },
     "execution_count": 15,
     "metadata": {},
     "output_type": "execute_result"
    }
   ],
   "source": [
    "unique_classes = df.groupby(column1)[column2].unique()\n",
    "unique_classes"
   ]
  },
  {
   "cell_type": "code",
   "execution_count": 16,
   "id": "a13163fe-cc0d-48b1-a6bf-cfa6515e368a",
   "metadata": {},
   "outputs": [],
   "source": [
    "for child_class, parent_classes in unique_classes.items():\n",
    "    if len(parent_classes) > 1:\n",
    "        # If a child class has more than one parent class, choose the first one arbitrarily\n",
    "        parent_class = parent_classes[0]\n",
    "    else:\n",
    "        parent_class = parent_classes[0]\n",
    "    three_label_map[child_class] = parent_class"
   ]
  },
  {
   "cell_type": "code",
   "execution_count": 17,
   "id": "ac893ee5-47ab-49bc-953a-fa046b32c79b",
   "metadata": {},
   "outputs": [],
   "source": [
    "three_label_map['eudermic']='eudermic'"
   ]
  },
  {
   "cell_type": "code",
   "execution_count": 18,
   "id": "2ff4e970-3875-40a6-9228-76daf572f88a",
   "metadata": {},
   "outputs": [
    {
     "data": {
      "text/plain": [
       "(115, 115)"
      ]
     },
     "execution_count": 18,
     "metadata": {},
     "output_type": "execute_result"
    }
   ],
   "source": [
    "len(three_label_map.keys()), len(three_label_map.values())"
   ]
  },
  {
   "cell_type": "code",
   "execution_count": 19,
   "id": "7bdc63b0-e46a-4c68-b01d-24a57c3be5e1",
   "metadata": {},
   "outputs": [
    {
     "data": {
      "text/plain": [
       "115"
      ]
     },
     "execution_count": 19,
     "metadata": {},
     "output_type": "execute_result"
    }
   ],
   "source": [
    "len(np.unique(list(three_label_map.keys())))"
   ]
  },
  {
   "cell_type": "code",
   "execution_count": 20,
   "id": "0d9432e8-b68f-473d-8fda-e5ed6f388276",
   "metadata": {},
   "outputs": [
    {
     "data": {
      "text/plain": [
       "array(['benign', 'eudermic', 'malignant', 'non-neoplastic'], dtype='<U14')"
      ]
     },
     "execution_count": 20,
     "metadata": {},
     "output_type": "execute_result"
    }
   ],
   "source": [
    "np.unique(list(three_label_map.values()))"
   ]
  },
  {
   "cell_type": "code",
   "execution_count": 21,
   "id": "296734cb-5306-44cf-ba4d-ee5713476cbb",
   "metadata": {},
   "outputs": [],
   "source": [
    "plot_labels=list(three_label_map.values())"
   ]
  },
  {
   "cell_type": "code",
   "execution_count": 22,
   "id": "b9c95335-81f1-4f45-be6c-ab94b3902be8",
   "metadata": {},
   "outputs": [
    {
     "name": "stderr",
     "output_type": "stream",
     "text": [
      "/tmp/ipykernel_1473401/2400629514.py:2: MatplotlibDeprecationWarning: The get_cmap function was deprecated in Matplotlib 3.7 and will be removed two minor releases later. Use ``matplotlib.colormaps[name]`` or ``matplotlib.colormaps.get_cmap(obj)`` instead.\n",
      "  colors = plt.cm.get_cmap('tab10', k)\n"
     ]
    }
   ],
   "source": [
    "k=len(np.unique(list(three_label_map.values())))\n",
    "colors = plt.cm.get_cmap('tab10', k)"
   ]
  },
  {
   "cell_type": "code",
   "execution_count": 23,
   "id": "59b128d0-f08a-41e7-a64e-b97044dd15e7",
   "metadata": {},
   "outputs": [
    {
     "data": {
      "text/plain": [
       "['acanthosis nigricans non-neoplastic',\n",
       " 'acne non-neoplastic',\n",
       " 'acne vulgaris non-neoplastic',\n",
       " 'acquired autoimmune bullous diseaseherpes gestationis non-neoplastic',\n",
       " 'acrodermatitis enteropathica non-neoplastic',\n",
       " 'actinic keratosis malignant',\n",
       " 'allergic contact dermatitis non-neoplastic',\n",
       " 'aplasia cutis non-neoplastic',\n",
       " 'basal cell carcinoma malignant',\n",
       " 'basal cell carcinoma morpheiform malignant',\n",
       " 'becker nevus benign',\n",
       " 'behcets disease non-neoplastic',\n",
       " 'calcinosis cutis non-neoplastic',\n",
       " 'cheilitis non-neoplastic',\n",
       " 'congenital nevus benign',\n",
       " 'dariers disease non-neoplastic',\n",
       " 'dermatofibroma benign',\n",
       " 'dermatomyositis non-neoplastic',\n",
       " 'disseminated actinic porokeratosis benign',\n",
       " 'drug eruption non-neoplastic',\n",
       " 'drug induced pigmentary changes non-neoplastic',\n",
       " 'dyshidrotic eczema non-neoplastic',\n",
       " 'eczema non-neoplastic',\n",
       " 'ehlers danlos syndrome non-neoplastic',\n",
       " 'epidermal nevus benign',\n",
       " 'epidermolysis bullosa non-neoplastic',\n",
       " 'erythema annulare centrifigum non-neoplastic',\n",
       " 'erythema elevatum diutinum non-neoplastic',\n",
       " 'erythema multiforme non-neoplastic',\n",
       " 'erythema nodosum non-neoplastic',\n",
       " 'factitial dermatitis non-neoplastic',\n",
       " 'fixed eruptions non-neoplastic',\n",
       " 'folliculitis non-neoplastic',\n",
       " 'fordyce spots benign',\n",
       " 'granuloma annulare non-neoplastic',\n",
       " 'granuloma pyogenic benign',\n",
       " 'hailey hailey disease non-neoplastic',\n",
       " 'halo nevus benign',\n",
       " 'hidradenitis non-neoplastic',\n",
       " 'ichthyosis vulgaris non-neoplastic',\n",
       " 'incontinentia pigmenti non-neoplastic',\n",
       " 'juvenile xanthogranuloma non-neoplastic',\n",
       " 'kaposi sarcoma malignant',\n",
       " 'keloid non-neoplastic',\n",
       " 'keratosis pilaris non-neoplastic',\n",
       " 'langerhans cell histiocytosis non-neoplastic',\n",
       " 'lentigo maligna malignant',\n",
       " 'lichen amyloidosis non-neoplastic',\n",
       " 'lichen planus non-neoplastic',\n",
       " 'lichen simplex non-neoplastic',\n",
       " 'livedo reticularis non-neoplastic',\n",
       " 'lupus erythematosus non-neoplastic',\n",
       " 'lupus subacute non-neoplastic',\n",
       " 'lyme disease non-neoplastic',\n",
       " 'lymphangioma benign',\n",
       " 'malignant melanoma malignant',\n",
       " 'melanoma malignant',\n",
       " 'milia benign',\n",
       " 'mucinosis non-neoplastic',\n",
       " 'mucous cyst benign',\n",
       " 'mycosis fungoides malignant',\n",
       " 'myiasis non-neoplastic',\n",
       " 'naevus comedonicus benign',\n",
       " 'necrobiosis lipoidica non-neoplastic',\n",
       " 'nematode infection non-neoplastic',\n",
       " 'neurodermatitis non-neoplastic',\n",
       " 'neurofibromatosis non-neoplastic',\n",
       " 'neurotic excoriations non-neoplastic',\n",
       " 'neutrophilic dermatoses non-neoplastic',\n",
       " 'nevocytic nevus benign',\n",
       " 'nevus sebaceous of jadassohn benign',\n",
       " 'papilomatosis confluentes and reticulate non-neoplastic',\n",
       " 'paronychia non-neoplastic',\n",
       " 'pediculosis lids non-neoplastic',\n",
       " 'perioral dermatitis non-neoplastic',\n",
       " 'photodermatoses non-neoplastic',\n",
       " 'pilar cyst benign',\n",
       " 'pilomatricoma benign',\n",
       " 'pityriasis lichenoides chronica non-neoplastic',\n",
       " 'pityriasis rosea non-neoplastic',\n",
       " 'pityriasis rubra pilaris non-neoplastic',\n",
       " 'porokeratosis actinic benign',\n",
       " 'porokeratosis of mibelli benign',\n",
       " 'porphyria non-neoplastic',\n",
       " 'port wine stain benign',\n",
       " 'prurigo nodularis benign',\n",
       " 'psoriasis non-neoplastic',\n",
       " 'pustular psoriasis non-neoplastic',\n",
       " 'pyogenic granuloma benign',\n",
       " 'rhinophyma non-neoplastic',\n",
       " 'rosacea non-neoplastic',\n",
       " 'sarcoidosis non-neoplastic',\n",
       " 'scabies non-neoplastic',\n",
       " 'scleroderma non-neoplastic',\n",
       " 'scleromyxedema non-neoplastic',\n",
       " 'seborrheic dermatitis non-neoplastic',\n",
       " 'seborrheic keratosis benign',\n",
       " 'solid cystic basal cell carcinoma malignant',\n",
       " 'squamous cell carcinoma malignant',\n",
       " 'stasis edema non-neoplastic',\n",
       " 'stevens johnson syndrome non-neoplastic',\n",
       " 'striae non-neoplastic',\n",
       " 'sun damaged skin non-neoplastic',\n",
       " 'superficial spreading melanoma ssm malignant',\n",
       " 'syringoma benign',\n",
       " 'telangiectases benign',\n",
       " 'tick bite non-neoplastic',\n",
       " 'tuberous sclerosis non-neoplastic',\n",
       " 'tungiasis non-neoplastic',\n",
       " 'urticaria non-neoplastic',\n",
       " 'urticaria pigmentosa non-neoplastic',\n",
       " 'vitiligo non-neoplastic',\n",
       " 'xanthomas non-neoplastic',\n",
       " 'xeroderma pigmentosum non-neoplastic',\n",
       " 'eudermic eudermic']"
      ]
     },
     "execution_count": 23,
     "metadata": {},
     "output_type": "execute_result"
    }
   ],
   "source": [
    "concatenated_label = []\n",
    "\n",
    "for key, value in three_label_map.items():\n",
    "    concatenated_label.append(key + \" \" +value)\n",
    "concatenated_label"
   ]
  },
  {
   "cell_type": "code",
   "execution_count": 24,
   "id": "9278078e-5e20-4726-8808-13d372491a7e",
   "metadata": {},
   "outputs": [
    {
     "data": {
      "text/plain": [
       "(115, 1536)"
      ]
     },
     "execution_count": 24,
     "metadata": {},
     "output_type": "execute_result"
    }
   ],
   "source": [
    "#choose either embed or embed1 depending upon the model you want to use\n",
    "\n",
    "texts = [concatenated_label[i] for i in range(len(concatenated_label))]\n",
    "\n",
    "res1 = embed1.embed_documents(texts)\n",
    "len(res1), len(res1[1])"
   ]
  },
  {
   "cell_type": "code",
   "execution_count": 26,
   "id": "4d9c37fb-d9e9-414b-b311-60b88c0f09b4",
   "metadata": {},
   "outputs": [],
   "source": [
    "res1_array = np.array(res1)\n",
    "X1 = res1_array"
   ]
  },
  {
   "cell_type": "code",
   "execution_count": 27,
   "id": "01759208-86e8-412b-9de9-033f0d48469a",
   "metadata": {},
   "outputs": [],
   "source": [
    "tsne=TSNE(n_components=2)\n",
    "Z=tsne.fit_transform(X1)"
   ]
  },
  {
   "cell_type": "code",
   "execution_count": 28,
   "id": "a3278ab1-639f-4052-8f9b-12fb748bca51",
   "metadata": {},
   "outputs": [
    {
     "data": {
      "image/png": "[encoded data removed]",
      "text/plain": [
       "<Figure size 800x600 with 1 Axes>"
      ]
     },
     "metadata": {},
     "output_type": "display_data"
    }
   ],
   "source": [
    "plt.figure(figsize=(8, 6))\n",
    "for i, class_name in enumerate(set(plot_labels)):\n",
    "    class_indices = [index for index, value in enumerate(plot_labels) if value == class_name]\n",
    "    class_data = Z[class_indices]\n",
    "    plt.scatter(class_data[:, 0], class_data[:, 1], color=colors(i), label=class_name)\n",
    "\n",
    "plt.title('Scatter plot showing 3-partition labels')\n",
    "plt.legend()\n",
    "plt.show()"
   ]
  },
  {
   "cell_type": "code",
   "execution_count": 33,
   "id": "70cda50f-ec22-4152-be35-1dc238df6d81",
   "metadata": {},
   "outputs": [
    {
     "name": "stdout",
     "output_type": "stream",
     "text": [
      "(115, 768)\n"
     ]
    }
   ],
   "source": [
    "#code snippet to reduce the dimension of vector\n",
    "import numpy as np\n",
    "\n",
    "def normalize_l2(x):\n",
    "    x = np.array(x)\n",
    "    if x.ndim == 1:\n",
    "        norm = np.linalg.norm(x)\n",
    "        if norm == 0:\n",
    "            return x\n",
    "        return x / norm\n",
    "    else:\n",
    "        norm = np.linalg.norm(x, 2, axis=1, keepdims=True)\n",
    "        return np.where(norm == 0, x, x / norm)\n",
    "\n",
    "\n",
    "\n",
    "normalized_arrays = []\n",
    "\n",
    "for array in res1_array:\n",
    "    cut_dim = array[:768]\n",
    "    #print(cut_dim.ndim)\n",
    "    norm_dim = normalize_l2(cut_dim)\n",
    "    normalized_arrays.append(norm_dim)\n",
    "\n",
    "normalized_arrays = np.array(normalized_arrays)\n",
    "\n",
    "\n",
    "print(normalized_arrays.shape)"
   ]
  },
  {
   "cell_type": "code",
   "execution_count": 34,
   "id": "7f08043a-b595-4c31-a513-2ba0f4a84874",
   "metadata": {},
   "outputs": [
    {
     "data": {
      "text/plain": [
       "(115, 768)"
      ]
     },
     "execution_count": 34,
     "metadata": {},
     "output_type": "execute_result"
    }
   ],
   "source": [
    "#Another way to reduce the dimension of vector\n",
    "emb = []\n",
    "for j in range(115):\n",
    "    e = []\n",
    "    for i in range(len(res1_array[j])//2):\n",
    "        e.append((res1_array[j][2*i]+res1_array[j][2*i+1])/2)\n",
    "    emb.append(e)\n",
    "emb = np.array(emb, dtype=np.double)\n",
    "np.shape(emb)"
   ]
  },
  {
   "cell_type": "code",
   "execution_count": null,
   "id": "8517c859-09a3-4489-83ef-c5a1f39353ff",
   "metadata": {},
   "outputs": [],
   "source": [
    "import torch\n",
    "x = torch.cat(tuple([torch.tensor(emb).unsqueeze(0)]*32))\n",
    "np.shape(x)\n",
    "# or\n",
    "x = np.concatenate(([normalized_arrays],)*32, axis=0)\n",
    "np.save('text_embeddings_3_large_consecutive_averaged', x)"
   ]
  }
 ],
 "metadata": {
  "kernelspec": {
   "display_name": "Python 3 (ipykernel)",
   "language": "python",
   "name": "python3"
  },
  "language_info": {
   "codemirror_mode": {
    "name": "ipython",
    "version": 3
   },
   "file_extension": ".py",
   "mimetype": "text/x-python",
   "name": "python",
   "nbconvert_exporter": "python",
   "pygments_lexer": "ipython3",
   "version": "3.10.12"
  }
 },
 "nbformat": 4,
 "nbformat_minor": 5
}
