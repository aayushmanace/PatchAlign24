{
 "cells": [
  {
   "cell_type": "code",
   "execution_count": 1,
   "metadata": {},
   "outputs": [
    {
     "name": "stderr",
     "output_type": "stream",
     "text": [
      "/usr/lib/python3/dist-packages/scipy/__init__.py:146: UserWarning: A NumPy version >=1.17.3 and <1.25.0 is required for this version of SciPy (detected version 1.26.4\n",
      "  warnings.warn(f\"A NumPy version >={np_minversion} and <{np_maxversion}\"\n"
     ]
    }
   ],
   "source": [
    "##FOR FITZPATRICK\n",
    "import pandas as pd\n",
    "from sklearn.preprocessing import LabelEncoder\n",
    "\n",
    "df=pd.read_csv('fitzpatrick17k_known_code.csv')\n",
    "# # Assuming your class labels are in a column named 'class_label'\n",
    "class_labels = df['label'].values\n",
    "\n",
    "# Initialize the LabelEncoder\n",
    "label_encoder = LabelEncoder()\n",
    "\n",
    "# Fit and transform the class labels to indices\n",
    "indices = label_encoder.fit_transform(class_labels)\n",
    "\n",
    "# Add the indices as a new column in your DataFrame (optional)\n",
    "df['class_indices'] = indices\n",
    "\n",
    "# Display the updated DataFrame\n",
    "df.head()\n",
    "df.to_csv('fitzpatrick17k_known_code_with_label_indices.csv')\n"
   ]
  },
  {
   "cell_type": "code",
   "execution_count": 4,
   "metadata": {},
   "outputs": [],
   "source": [
    "##FOR DDI\n",
    "import pandas as pd\n",
    "from sklearn.preprocessing import LabelEncoder\n",
    "\n",
    "df=pd.read_csv('ddi_metadata_code.csv')\n",
    "# # Assuming your class labels are in a column named 'class_label'\n",
    "class_labels = df['disease'].values\n",
    "\n",
    "# Initialize the LabelEncoder\n",
    "label_encoder = LabelEncoder()\n",
    "\n",
    "# Fit and transform the class labels to indices\n",
    "indices = label_encoder.fit_transform(class_labels)\n",
    "\n",
    "# Add the indices as a new column in your DataFrame (optional)\n",
    "df['class_indices'] = indices\n",
    "\n",
    "# Display the updated DataFrame\n",
    "df.head()\n",
    "df.to_csv('ddi_with_label_indices.csv')\n"
   ]
  }
 ],
 "metadata": {
  "kernelspec": {
   "display_name": "Python 3",
   "language": "python",
   "name": "python3"
  },
  "language_info": {
   "codemirror_mode": {
    "name": "ipython",
    "version": 3
   },
   "file_extension": ".py",
   "mimetype": "text/x-python",
   "name": "python",
   "nbconvert_exporter": "python",
   "pygments_lexer": "ipython3",
   "version": "3.10.12"
  }
 },
 "nbformat": 4,
 "nbformat_minor": 2
}
