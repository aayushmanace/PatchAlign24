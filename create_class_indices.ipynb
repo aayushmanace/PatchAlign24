{
 "cells": [
  {
   "cell_type": "code",
   "execution_count": 9,
   "metadata": {},
   "outputs": [],
   "source": [
    "import pandas as pd\n",
    "df=pd.read_csv('fitzpatrick17k.csv')\n",
    "grouped = df.groupby('three_partition_label')['label'].unique()\n",
    "# for label, partitions in grouped.items():\n",
    "#     print(f\"Label: {label}, Partitions: {partitions}\")\n",
    "\n",
    "# common_elements = set(grouped['benign']).intersection(grouped['malignant'])\n",
    "# num_common_elements = len(common_elements)\n",
    "# print(num_common_elements)\n",
    "\n",
    "# common_elements = set(grouped['benign']).intersection(grouped['non-neoplastic'])\n",
    "# num_common_elements = len(common_elements)\n",
    "# print(num_common_elements)\n",
    "\n",
    "# common_elements = set(grouped['malignant']).intersection(grouped['non-neoplastic'])\n",
    "# num_common_elements = len(common_elements)\n",
    "# print(num_common_elements)\n",
    "print((list(grouped['non-neoplastic'])))\n"
   ]
  },
  {
   "cell_type": "code",
   "execution_count": 4,
   "metadata": {},
   "outputs": [],
   "source": [
    "import pandas as pd\n",
    "from sklearn.preprocessing import LabelEncoder\n",
    "\n",
    "df=pd.read_csv('fitzpatrick17k_known_code.csv')\n",
    "# # Assuming your class labels are in a column named 'class_label'\n",
    "class_labels = df['label'].values\n",
    "\n",
    "# Initialize the LabelEncoder\n",
    "label_encoder = LabelEncoder()\n",
    "\n",
    "# Fit and transform the class labels to indices\n",
    "indices = label_encoder.fit_transform(class_labels)\n",
    "\n",
    "# Add the indices as a new column in your DataFrame (optional)\n",
    "df['class_indices'] = indices\n",
    "\n",
    "# Display the updated DataFrame\n",
    "# print(df)\n",
    "df.head()\n",
    "df.to_csv('fitzpatrick17k_known_code_with_label_indices.csv')\n"
   ]
  }
 ],
 "metadata": {
  "kernelspec": {
   "display_name": "Python 3 (ipykernel)",
   "language": "python",
   "name": "python3"
  },
  "language_info": {
   "codemirror_mode": {
    "name": "ipython",
    "version": 3
   },
   "file_extension": ".py",
   "mimetype": "text/x-python",
   "name": "python",
   "nbconvert_exporter": "python",
   "pygments_lexer": "ipython3",
   "version": "3.10.12"
  }
 },
 "nbformat": 4,
 "nbformat_minor": 4
}
